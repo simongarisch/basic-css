{
 "cells": [
  {
   "cell_type": "markdown",
   "metadata": {},
   "source": [
    "## Some Python Code\n",
    "Here we are going to demo some Python code in the notebook to be exported as html."
   ]
  },
  {
   "cell_type": "code",
   "execution_count": 1,
   "metadata": {},
   "outputs": [
    {
     "name": "stdout",
     "output_type": "stream",
     "text": [
      "Hello World!\n"
     ]
    }
   ],
   "source": [
    "def main():\n",
    "    print(\"Hello World!\")\n",
    "\n",
    "if __name__ == \"__main__\":\n",
    "    main()"
   ]
  },
  {
   "cell_type": "code",
   "execution_count": 3,
   "metadata": {},
   "outputs": [],
   "source": [
    "'''\n",
    "we'll create a stop_running attribute for our threads that must be a bool\n",
    "'''\n",
    "from weakref import WeakKeyDictionary\n",
    "\n",
    "\n",
    "class StopRunning(object):\n",
    "    ''' A descriptor that requires a bool value for the stopRunning attribute '''\n",
    "    def __init__(self, default=False):\n",
    "        self.default = default\n",
    "        self.data = WeakKeyDictionary()\n",
    "\n",
    "    def __get__(self, instance, owner):\n",
    "        ''' get the attribute stop_running for this object\n",
    "            default is False\n",
    "        '''\n",
    "        return self.data.get(instance, self.default)\n",
    "\n",
    "    def __set__(self, instance, value):\n",
    "        ''' set the value for stop_running\n",
    "            an error is raised if this is not a boolean type\n",
    "        '''\n",
    "        if not isinstance(value, bool):\n",
    "            raise errors.StopRunningNotBoolError\n",
    "        self.data[instance] = value"
   ]
  },
  {
   "cell_type": "markdown",
   "metadata": {},
   "source": [
    "***"
   ]
  }
 ],
 "metadata": {
  "kernelspec": {
   "display_name": "py36",
   "language": "python",
   "name": "py36"
  },
  "language_info": {
   "codemirror_mode": {
    "name": "ipython",
    "version": 2
   },
   "file_extension": ".py",
   "mimetype": "text/x-python",
   "name": "python",
   "nbconvert_exporter": "python",
   "pygments_lexer": "ipython2",
   "version": "2.7.15"
  }
 },
 "nbformat": 4,
 "nbformat_minor": 2
}
